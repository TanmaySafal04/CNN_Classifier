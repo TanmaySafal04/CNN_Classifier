{
 "cells": [
  {
   "cell_type": "code",
   "execution_count": 1,
   "metadata": {},
   "outputs": [],
   "source": [
    "from dataclasses import dataclass\n",
    "from pathlib import Path\n",
    "\n",
    "\n",
    "@dataclass(frozen=True) # We are creating an immutable class\n",
    "class DataIngestionConfig:\n",
    "    root_dir: Path\n",
    "    source_URL: str\n",
    "    local_data_file: Path\n",
    "    unzip_dir: Path"
   ]
  },
  {
   "cell_type": "code",
   "execution_count": 15,
   "metadata": {},
   "outputs": [
    {
     "name": "stdout",
     "output_type": "stream",
     "text": [
      "Collecting boxsdk\n",
      "  Downloading boxsdk-3.9.2-py2.py3-none-any.whl.metadata (19 kB)\n",
      "Requirement already satisfied: attrs>=17.3.0 in d:\\deep learning\\cnn_classifier\\env\\lib\\site-packages (from boxsdk) (23.1.0)\n",
      "Requirement already satisfied: urllib3 in d:\\deep learning\\cnn_classifier\\env\\lib\\site-packages (from boxsdk) (2.1.0)\n",
      "Requirement already satisfied: requests<3,>=2.4.3 in d:\\deep learning\\cnn_classifier\\env\\lib\\site-packages (from boxsdk) (2.31.0)\n",
      "Collecting requests-toolbelt>=0.4.0 (from boxsdk)\n",
      "  Downloading requests_toolbelt-1.0.0-py2.py3-none-any.whl (54 kB)\n",
      "     ---------------------------------------- 0.0/54.5 kB ? eta -:--:--\n",
      "     ---------------------- ----------------- 30.7/54.5 kB 1.4 MB/s eta 0:00:01\n",
      "     ----------------------------------- -- 51.2/54.5 kB 871.5 kB/s eta 0:00:01\n",
      "     ----------------------------------- -- 51.2/54.5 kB 871.5 kB/s eta 0:00:01\n",
      "     ----------------------------------- -- 51.2/54.5 kB 871.5 kB/s eta 0:00:01\n",
      "     ----------------------------------- -- 51.2/54.5 kB 871.5 kB/s eta 0:00:01\n",
      "     ----------------------------------- -- 51.2/54.5 kB 871.5 kB/s eta 0:00:01\n",
      "     -------------------------------------- 54.5/54.5 kB 141.8 kB/s eta 0:00:00\n",
      "Requirement already satisfied: python-dateutil in d:\\deep learning\\cnn_classifier\\env\\lib\\site-packages (from boxsdk) (2.8.2)\n",
      "Requirement already satisfied: charset-normalizer<4,>=2 in d:\\deep learning\\cnn_classifier\\env\\lib\\site-packages (from requests<3,>=2.4.3->boxsdk) (3.3.2)\n",
      "Requirement already satisfied: idna<4,>=2.5 in d:\\deep learning\\cnn_classifier\\env\\lib\\site-packages (from requests<3,>=2.4.3->boxsdk) (3.6)\n",
      "Requirement already satisfied: certifi>=2017.4.17 in d:\\deep learning\\cnn_classifier\\env\\lib\\site-packages (from requests<3,>=2.4.3->boxsdk) (2023.11.17)\n",
      "Requirement already satisfied: six>=1.5 in d:\\deep learning\\cnn_classifier\\env\\lib\\site-packages (from python-dateutil->boxsdk) (1.16.0)\n",
      "Downloading boxsdk-3.9.2-py2.py3-none-any.whl (139 kB)\n",
      "   ---------------------------------------- 0.0/139.2 kB ? eta -:--:--\n",
      "   -------------------------- ------------- 92.2/139.2 kB 2.6 MB/s eta 0:00:01\n",
      "   -------------------------------------- - 133.1/139.2 kB 2.0 MB/s eta 0:00:01\n",
      "   -------------------------------------- - 133.1/139.2 kB 2.0 MB/s eta 0:00:01\n",
      "   -------------------------------------- 139.2/139.2 kB 749.8 kB/s eta 0:00:00\n",
      "Installing collected packages: requests-toolbelt, boxsdk\n",
      "Successfully installed boxsdk-3.9.2 requests-toolbelt-1.0.0\n"
     ]
    }
   ],
   "source": [
    "!pip install boxsdk"
   ]
  },
  {
   "cell_type": "code",
   "execution_count": 25,
   "metadata": {},
   "outputs": [],
   "source": [
    "from box.exceptions import BoxValueError"
   ]
  },
  {
   "cell_type": "code",
   "execution_count": 28,
   "metadata": {},
   "outputs": [
    {
     "ename": "ImportError",
     "evalue": "cannot import name 'logger' from 'CNNClassifier' (D:\\Deep Learning\\CNN_Classifier\\src\\CNNClassifier\\__init__.py)",
     "output_type": "error",
     "traceback": [
      "\u001b[1;31m---------------------------------------------------------------------------\u001b[0m",
      "\u001b[1;31mImportError\u001b[0m                               Traceback (most recent call last)",
      "Cell \u001b[1;32mIn[28], line 1\u001b[0m\n\u001b[1;32m----> 1\u001b[0m \u001b[38;5;28;01mfrom\u001b[39;00m \u001b[38;5;21;01mCNNClassifier\u001b[39;00m\u001b[38;5;21;01m.\u001b[39;00m\u001b[38;5;21;01mcomponents\u001b[39;00m\u001b[38;5;21;01m.\u001b[39;00m\u001b[38;5;21;01mstage_01_data_ingestion\u001b[39;00m \u001b[38;5;28;01mimport\u001b[39;00m ZipFile\n",
      "File \u001b[1;32mD:\\Deep Learning\\CNN_Classifier\\src\\CNNClassifier\\components\\stage_01_data_ingestion.py:4\u001b[0m\n\u001b[0;32m      2\u001b[0m \u001b[38;5;28;01mimport\u001b[39;00m \u001b[38;5;21;01murllib\u001b[39;00m\u001b[38;5;21;01m.\u001b[39;00m\u001b[38;5;21;01mrequest\u001b[39;00m \u001b[38;5;28;01mas\u001b[39;00m \u001b[38;5;21;01mrequest\u001b[39;00m\n\u001b[0;32m      3\u001b[0m \u001b[38;5;28;01mfrom\u001b[39;00m \u001b[38;5;21;01mzipfile\u001b[39;00m \u001b[38;5;28;01mimport\u001b[39;00m ZipFile\n\u001b[1;32m----> 4\u001b[0m \u001b[38;5;28;01mfrom\u001b[39;00m \u001b[38;5;21;01mCNNClassifier\u001b[39;00m \u001b[38;5;28;01mimport\u001b[39;00m logger \n\u001b[0;32m      5\u001b[0m \u001b[38;5;28;01mfrom\u001b[39;00m \u001b[38;5;21;01mpathlib\u001b[39;00m \u001b[38;5;28;01mimport\u001b[39;00m Path\n\u001b[0;32m      6\u001b[0m \u001b[38;5;28;01mfrom\u001b[39;00m \u001b[38;5;21;01mtqdm\u001b[39;00m \u001b[38;5;28;01mimport\u001b[39;00m tqdm \u001b[38;5;66;03m# TO show the progress bar for any process\u001b[39;00m\n",
      "\u001b[1;31mImportError\u001b[0m: cannot import name 'logger' from 'CNNClassifier' (D:\\Deep Learning\\CNN_Classifier\\src\\CNNClassifier\\__init__.py)"
     ]
    }
   ],
   "source": [
    "from CNNClassifier.components.stage_01_data_ingestion import ZipFile"
   ]
  },
  {
   "cell_type": "code",
   "execution_count": 27,
   "metadata": {},
   "outputs": [
    {
     "ename": "ImportError",
     "evalue": "cannot import name 'lo' from 'CNNClassifier' (D:\\Deep Learning\\CNN_Classifier\\src\\CNNClassifier\\__init__.py)",
     "output_type": "error",
     "traceback": [
      "\u001b[1;31m---------------------------------------------------------------------------\u001b[0m",
      "\u001b[1;31mImportError\u001b[0m                               Traceback (most recent call last)",
      "Cell \u001b[1;32mIn[27], line 1\u001b[0m\n\u001b[1;32m----> 1\u001b[0m \u001b[38;5;28;01mfrom\u001b[39;00m \u001b[38;5;21;01mCNNClassifier\u001b[39;00m\u001b[38;5;21;01m.\u001b[39;00m\u001b[38;5;21;01mutils\u001b[39;00m\u001b[38;5;21;01m.\u001b[39;00m\u001b[38;5;21;01mutils\u001b[39;00m \u001b[38;5;28;01mimport\u001b[39;00m read_yaml, create_directories\n",
      "File \u001b[1;32mD:\\Deep Learning\\CNN_Classifier\\src\\CNNClassifier\\utils\\__init__.py:1\u001b[0m\n\u001b[1;32m----> 1\u001b[0m \u001b[38;5;28;01mfrom\u001b[39;00m \u001b[38;5;21;01mCNNClassifier\u001b[39;00m\u001b[38;5;21;01m.\u001b[39;00m\u001b[38;5;21;01mutils\u001b[39;00m\u001b[38;5;21;01m.\u001b[39;00m\u001b[38;5;21;01mutils\u001b[39;00m \u001b[38;5;28;01mimport\u001b[39;00m \u001b[38;5;241m*\u001b[39m\n",
      "File \u001b[1;32mD:\\Deep Learning\\CNN_Classifier\\src\\CNNClassifier\\utils\\utils.py:4\u001b[0m\n\u001b[0;32m      2\u001b[0m \u001b[38;5;28;01mfrom\u001b[39;00m \u001b[38;5;21;01mboxsdk\u001b[39;00m\u001b[38;5;21;01m.\u001b[39;00m\u001b[38;5;21;01mexception\u001b[39;00m \u001b[38;5;28;01mimport\u001b[39;00m BoxValueError\n\u001b[0;32m      3\u001b[0m \u001b[38;5;28;01mimport\u001b[39;00m \u001b[38;5;21;01myaml\u001b[39;00m\n\u001b[1;32m----> 4\u001b[0m \u001b[38;5;28;01mfrom\u001b[39;00m \u001b[38;5;21;01mCNNClassifier\u001b[39;00m \u001b[38;5;28;01mimport\u001b[39;00m lo\n\u001b[0;32m      5\u001b[0m \u001b[38;5;28;01mimport\u001b[39;00m \u001b[38;5;21;01mjson\u001b[39;00m\n\u001b[0;32m      6\u001b[0m \u001b[38;5;28;01mimport\u001b[39;00m \u001b[38;5;21;01mjoblib\u001b[39;00m\n",
      "\u001b[1;31mImportError\u001b[0m: cannot import name 'lo' from 'CNNClassifier' (D:\\Deep Learning\\CNN_Classifier\\src\\CNNClassifier\\__init__.py)"
     ]
    }
   ],
   "source": [
    "from CNNClassifier.utils.utils import read_yaml, create_directories\n"
   ]
  }
 ],
 "metadata": {
  "kernelspec": {
   "display_name": "base",
   "language": "python",
   "name": "python3"
  },
  "language_info": {
   "codemirror_mode": {
    "name": "ipython",
    "version": 3
   },
   "file_extension": ".py",
   "mimetype": "text/x-python",
   "name": "python",
   "nbconvert_exporter": "python",
   "pygments_lexer": "ipython3",
   "version": "3.8.18"
  }
 },
 "nbformat": 4,
 "nbformat_minor": 2
}
